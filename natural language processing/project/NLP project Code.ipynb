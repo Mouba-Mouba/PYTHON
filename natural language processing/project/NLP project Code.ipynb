{
  "nbformat": 4,
  "nbformat_minor": 0,
  "metadata": {
    "colab": {
      "name": "Untitled28.ipynb",
      "provenance": []
    },
    "kernelspec": {
      "name": "python3",
      "display_name": "Python 3"
    },
    "language_info": {
      "name": "python"
    }
  },
  "cells": [
    {
      "cell_type": "code",
      "source": [
        "with open('/content/article1.txt') as f:\n",
        "    article_text = f.read()"
      ],
      "metadata": {
        "id": "8DE1ha1mTqqB"
      },
      "execution_count": 1,
      "outputs": []
    },
    {
      "cell_type": "code",
      "source": [
        "#import module\n",
        "import re\n",
        "import nltk\n",
        "import nltk\n",
        "nltk.download('punkt')"
      ],
      "metadata": {
        "colab": {
          "base_uri": "https://localhost:8080/"
        },
        "id": "qb8WCy_hTTQb",
        "outputId": "43e96cb8-2d2c-4903-f672-575b167322d5"
      },
      "execution_count": 2,
      "outputs": [
        {
          "output_type": "stream",
          "name": "stdout",
          "text": [
            "[nltk_data] Downloading package punkt to /root/nltk_data...\n",
            "[nltk_data]   Unzipping tokenizers/punkt.zip.\n"
          ]
        },
        {
          "output_type": "execute_result",
          "data": {
            "text/plain": [
              "True"
            ]
          },
          "metadata": {},
          "execution_count": 2
        }
      ]
    },
    {
      "cell_type": "code",
      "source": [
        "article_text = article_text.lower()\n",
        "article_text"
      ],
      "metadata": {
        "colab": {
          "base_uri": "https://localhost:8080/",
          "height": 122
        },
        "id": "n9MgpETKTRfM",
        "outputId": "9bcb0446-ce85-4a99-922a-3f70de95545b"
      },
      "execution_count": 3,
      "outputs": [
        {
          "output_type": "execute_result",
          "data": {
            "application/vnd.google.colaboratory.intrinsic+json": {
              "type": "string"
            },
            "text/plain": [
              "'noor hisham: several reasons for increase in education clusters.\\nhttps://www.nst.com.my/news/nation/2022/01/766418/noor-hisham-several-reasons-increase-education-clusters\\nkuala lumpur: the reasons for the exponential increase of covid-19 education clusters include failure to adhere to the standard operating procedures (sop) and disregarding quarantine rules.\\n\\nhealth director-general tan sri dr noor hisham abdullah said these were identified by the various district health offices in which education clusters and cases had appeared.\\n\\nhe said among other reasons were individuals who were symptomatic but still attended classes and detected late; crowded spaces that were not cleaned and disinfected periodically; and, poor ventilation systems in classes and hostels.\\n\\nhe revealed that 107 clusters in the education category had been reported between jan 1 and 25, involving 4,633 cases.\\ndr noor hisham said of these reported cases, 4,092 were fully vaccinated and 112 had received the booster shots.\\n\\n\"the majority of the cases, or 99.7 per cent, were under category 1 (asymptomatic) and 2 (with mild symptoms) without lung infection.\\n\\n\"the remaining 12 cases were under categories 3 and 4. all of them are stable and now receiving treatment at health facilities,\" he said in a statement today.\\n\\ndr noor hisham said cases were rising following the reopening of school sessions starting jan 9.\\n\\n\"during the 1st epidemiological week (ew), only three educational clusters were detected. however, the number rose after schools reopened during the 2nd ew with 15 clusters were recorded.\\n\\n\"a 313 per cent increase was reported during the 3rd ew. on the 4th ew until jan 25, we have recorded 26 new education clusters,\" he said.\\n\\ndr noor hisham also revealed that of the 107 education clusters, 56 or 52.3 per cent were linked to educational institutes under the education ministry; 24.3 per cent from other educational institutes; 20.6 per cent involved higher education; and, 2.8 per cent involved private educational institutes registered with the education ministry.\\n\\nhe said the health ministry held a special meeting with the education ministry, the state health departments, the national public health laboratory, the higher education ministry, the national unity and integration department as well as with the islamic development department on jan 22 to discuss the increase in cases involving education institutes.\\n\\ndr noor hisham said one of the proposals to reduce covid-19 infection in educational institutions was making it compulsory for students to immediately report to teachers, wardens or student reps whenever they displayed mild symptoms such as flu.\\n\\nother proposals include conducting a quick risk assessment so that students who test positive with covid-19 positive can be isolated, followed by immediate close contact tracing.\\n\\ndr noor hisham said school managements must prepare suitable places to isolate positive and close contact cases; ensure all stakeholders follow the sop set by the health ministry and the national security council at all time and make sure a good ventilation in classes, hostels, and closed spaces.'"
            ]
          },
          "metadata": {},
          "execution_count": 3
        }
      ]
    },
    {
      "cell_type": "code",
      "source": [
        "#data preprocessing"
      ],
      "metadata": {
        "id": "FFs16uA6u36q"
      },
      "execution_count": 4,
      "outputs": []
    },
    {
      "cell_type": "code",
      "source": [
        "# remove spaces, punctuations and numbers\n",
        "clean_text = re.sub('[^a-zA-Z]', ' ', article_text)\n",
        "clean_text = re.sub('\\s+', ' ', clean_text)\n",
        "clean_text"
      ],
      "metadata": {
        "colab": {
          "base_uri": "https://localhost:8080/",
          "height": 122
        },
        "id": "r5KK11cDTayq",
        "outputId": "36df78ef-9bd5-4886-e123-07b743b19311"
      },
      "execution_count": 5,
      "outputs": [
        {
          "output_type": "execute_result",
          "data": {
            "application/vnd.google.colaboratory.intrinsic+json": {
              "type": "string"
            },
            "text/plain": [
              "'noor hisham several reasons for increase in education clusters https www nst com my news nation noor hisham several reasons increase education clusters kuala lumpur the reasons for the exponential increase of covid education clusters include failure to adhere to the standard operating procedures sop and disregarding quarantine rules health director general tan sri dr noor hisham abdullah said these were identified by the various district health offices in which education clusters and cases had appeared he said among other reasons were individuals who were symptomatic but still attended classes and detected late crowded spaces that were not cleaned and disinfected periodically and poor ventilation systems in classes and hostels he revealed that clusters in the education category had been reported between jan and involving cases dr noor hisham said of these reported cases were fully vaccinated and had received the booster shots the majority of the cases or per cent were under category asymptomatic and with mild symptoms without lung infection the remaining cases were under categories and all of them are stable and now receiving treatment at health facilities he said in a statement today dr noor hisham said cases were rising following the reopening of school sessions starting jan during the st epidemiological week ew only three educational clusters were detected however the number rose after schools reopened during the nd ew with clusters were recorded a per cent increase was reported during the rd ew on the th ew until jan we have recorded new education clusters he said dr noor hisham also revealed that of the education clusters or per cent were linked to educational institutes under the education ministry per cent from other educational institutes per cent involved higher education and per cent involved private educational institutes registered with the education ministry he said the health ministry held a special meeting with the education ministry the state health departments the national public health laboratory the higher education ministry the national unity and integration department as well as with the islamic development department on jan to discuss the increase in cases involving education institutes dr noor hisham said one of the proposals to reduce covid infection in educational institutions was making it compulsory for students to immediately report to teachers wardens or student reps whenever they displayed mild symptoms such as flu other proposals include conducting a quick risk assessment so that students who test positive with covid positive can be isolated followed by immediate close contact tracing dr noor hisham said school managements must prepare suitable places to isolate positive and close contact cases ensure all stakeholders follow the sop set by the health ministry and the national security council at all time and make sure a good ventilation in classes hostels and closed spaces '"
            ]
          },
          "metadata": {},
          "execution_count": 5
        }
      ]
    },
    {
      "cell_type": "code",
      "source": [
        "# split into sentence list\n",
        "sentence_list = nltk.sent_tokenize(article_text)\n",
        "sentence_list"
      ],
      "metadata": {
        "colab": {
          "base_uri": "https://localhost:8080/"
        },
        "id": "xVxMCxjnVFUH",
        "outputId": "92a25db1-281a-486c-ea06-0c9c3fb47264"
      },
      "execution_count": 6,
      "outputs": [
        {
          "output_type": "execute_result",
          "data": {
            "text/plain": [
              "['noor hisham: several reasons for increase in education clusters.',\n",
              " 'https://www.nst.com.my/news/nation/2022/01/766418/noor-hisham-several-reasons-increase-education-clusters\\nkuala lumpur: the reasons for the exponential increase of covid-19 education clusters include failure to adhere to the standard operating procedures (sop) and disregarding quarantine rules.',\n",
              " 'health director-general tan sri dr noor hisham abdullah said these were identified by the various district health offices in which education clusters and cases had appeared.',\n",
              " 'he said among other reasons were individuals who were symptomatic but still attended classes and detected late; crowded spaces that were not cleaned and disinfected periodically; and, poor ventilation systems in classes and hostels.',\n",
              " 'he revealed that 107 clusters in the education category had been reported between jan 1 and 25, involving 4,633 cases.',\n",
              " 'dr noor hisham said of these reported cases, 4,092 were fully vaccinated and 112 had received the booster shots.',\n",
              " '\"the majority of the cases, or 99.7 per cent, were under category 1 (asymptomatic) and 2 (with mild symptoms) without lung infection.',\n",
              " '\"the remaining 12 cases were under categories 3 and 4. all of them are stable and now receiving treatment at health facilities,\" he said in a statement today.',\n",
              " 'dr noor hisham said cases were rising following the reopening of school sessions starting jan 9.',\n",
              " '\"during the 1st epidemiological week (ew), only three educational clusters were detected.',\n",
              " 'however, the number rose after schools reopened during the 2nd ew with 15 clusters were recorded.',\n",
              " '\"a 313 per cent increase was reported during the 3rd ew.',\n",
              " 'on the 4th ew until jan 25, we have recorded 26 new education clusters,\" he said.',\n",
              " 'dr noor hisham also revealed that of the 107 education clusters, 56 or 52.3 per cent were linked to educational institutes under the education ministry; 24.3 per cent from other educational institutes; 20.6 per cent involved higher education; and, 2.8 per cent involved private educational institutes registered with the education ministry.',\n",
              " 'he said the health ministry held a special meeting with the education ministry, the state health departments, the national public health laboratory, the higher education ministry, the national unity and integration department as well as with the islamic development department on jan 22 to discuss the increase in cases involving education institutes.',\n",
              " 'dr noor hisham said one of the proposals to reduce covid-19 infection in educational institutions was making it compulsory for students to immediately report to teachers, wardens or student reps whenever they displayed mild symptoms such as flu.',\n",
              " 'other proposals include conducting a quick risk assessment so that students who test positive with covid-19 positive can be isolated, followed by immediate close contact tracing.',\n",
              " 'dr noor hisham said school managements must prepare suitable places to isolate positive and close contact cases; ensure all stakeholders follow the sop set by the health ministry and the national security council at all time and make sure a good ventilation in classes, hostels, and closed spaces.']"
            ]
          },
          "metadata": {},
          "execution_count": 6
        }
      ]
    },
    {
      "cell_type": "code",
      "source": [
        "import nltk\n",
        "nltk.download('stopwords')"
      ],
      "metadata": {
        "colab": {
          "base_uri": "https://localhost:8080/"
        },
        "id": "GqI-_kJGVewL",
        "outputId": "956e5019-2e11-429a-dc1d-e7bf02cf76e5"
      },
      "execution_count": 7,
      "outputs": [
        {
          "output_type": "stream",
          "name": "stdout",
          "text": [
            "[nltk_data] Downloading package stopwords to /root/nltk_data...\n",
            "[nltk_data]   Unzipping corpora/stopwords.zip.\n"
          ]
        },
        {
          "output_type": "execute_result",
          "data": {
            "text/plain": [
              "True"
            ]
          },
          "metadata": {},
          "execution_count": 7
        }
      ]
    },
    {
      "cell_type": "code",
      "source": [
        "#Word Frequencies"
      ],
      "metadata": {
        "id": "tUqXjDGUw7qt"
      },
      "execution_count": 8,
      "outputs": []
    },
    {
      "cell_type": "code",
      "source": [
        "stopwords = nltk.corpus.stopwords.words('english')\n",
        "#create dictionary\n",
        "word_frequencies = {}\n",
        "for word in nltk.word_tokenize(clean_text):\n",
        "    if word not in stopwords:\n",
        "        if word not in word_frequencies:\n",
        "            word_frequencies[word] = 1\n",
        "        else:\n",
        "            word_frequencies[word] += 1"
      ],
      "metadata": {
        "id": "Crj83mNeVbrL"
      },
      "execution_count": 9,
      "outputs": []
    },
    {
      "cell_type": "code",
      "source": [
        "maximum_frequency = max(word_frequencies.values())\n",
        "\n",
        "for word in word_frequencies:\n",
        "    word_frequencies[word] = word_frequencies[word] / maximum_frequency"
      ],
      "metadata": {
        "id": "5lfSSrI9VkHd"
      },
      "execution_count": 10,
      "outputs": []
    },
    {
      "cell_type": "code",
      "source": [
        "#Calculate sentence Scores"
      ],
      "metadata": {
        "id": "Uhmzu7SGxJ82"
      },
      "execution_count": 11,
      "outputs": []
    },
    {
      "cell_type": "code",
      "source": [
        "sentence_scores = {}\n",
        "\n",
        "for sentence in sentence_list:\n",
        "    for word in nltk.word_tokenize(sentence):\n",
        "        if word in word_frequencies and len(sentence.split(' ')) < 30:\n",
        "            if sentence not in sentence_scores:\n",
        "                sentence_scores[sentence] = word_frequencies[word]\n",
        "            else:\n",
        "                sentence_scores[sentence] += word_frequencies[word]"
      ],
      "metadata": {
        "id": "VG1I9onYVmaj"
      },
      "execution_count": 12,
      "outputs": []
    },
    {
      "cell_type": "code",
      "source": [
        "word_frequencies"
      ],
      "metadata": {
        "colab": {
          "base_uri": "https://localhost:8080/"
        },
        "id": "EOjP7XERVoWT",
        "outputId": "9f6fe94b-04ec-4ac8-d7ea-799a340e126a"
      },
      "execution_count": 13,
      "outputs": [
        {
          "output_type": "execute_result",
          "data": {
            "text/plain": [
              "{'abdullah': 0.07692307692307693,\n",
              " 'adhere': 0.07692307692307693,\n",
              " 'also': 0.07692307692307693,\n",
              " 'among': 0.07692307692307693,\n",
              " 'appeared': 0.07692307692307693,\n",
              " 'assessment': 0.07692307692307693,\n",
              " 'asymptomatic': 0.07692307692307693,\n",
              " 'attended': 0.07692307692307693,\n",
              " 'booster': 0.07692307692307693,\n",
              " 'cases': 0.6153846153846154,\n",
              " 'categories': 0.07692307692307693,\n",
              " 'category': 0.15384615384615385,\n",
              " 'cent': 0.46153846153846156,\n",
              " 'classes': 0.23076923076923078,\n",
              " 'cleaned': 0.07692307692307693,\n",
              " 'close': 0.15384615384615385,\n",
              " 'closed': 0.07692307692307693,\n",
              " 'clusters': 0.6923076923076923,\n",
              " 'com': 0.07692307692307693,\n",
              " 'compulsory': 0.07692307692307693,\n",
              " 'conducting': 0.07692307692307693,\n",
              " 'contact': 0.15384615384615385,\n",
              " 'council': 0.07692307692307693,\n",
              " 'covid': 0.23076923076923078,\n",
              " 'crowded': 0.07692307692307693,\n",
              " 'department': 0.15384615384615385,\n",
              " 'departments': 0.07692307692307693,\n",
              " 'detected': 0.15384615384615385,\n",
              " 'development': 0.07692307692307693,\n",
              " 'director': 0.07692307692307693,\n",
              " 'discuss': 0.07692307692307693,\n",
              " 'disinfected': 0.07692307692307693,\n",
              " 'displayed': 0.07692307692307693,\n",
              " 'disregarding': 0.07692307692307693,\n",
              " 'district': 0.07692307692307693,\n",
              " 'dr': 0.46153846153846156,\n",
              " 'education': 1.0,\n",
              " 'educational': 0.38461538461538464,\n",
              " 'ensure': 0.07692307692307693,\n",
              " 'epidemiological': 0.07692307692307693,\n",
              " 'ew': 0.3076923076923077,\n",
              " 'exponential': 0.07692307692307693,\n",
              " 'facilities': 0.07692307692307693,\n",
              " 'failure': 0.07692307692307693,\n",
              " 'flu': 0.07692307692307693,\n",
              " 'follow': 0.07692307692307693,\n",
              " 'followed': 0.07692307692307693,\n",
              " 'following': 0.07692307692307693,\n",
              " 'fully': 0.07692307692307693,\n",
              " 'general': 0.07692307692307693,\n",
              " 'good': 0.07692307692307693,\n",
              " 'health': 0.5384615384615384,\n",
              " 'held': 0.07692307692307693,\n",
              " 'higher': 0.15384615384615385,\n",
              " 'hisham': 0.6153846153846154,\n",
              " 'hostels': 0.15384615384615385,\n",
              " 'however': 0.07692307692307693,\n",
              " 'https': 0.07692307692307693,\n",
              " 'identified': 0.07692307692307693,\n",
              " 'immediate': 0.07692307692307693,\n",
              " 'immediately': 0.07692307692307693,\n",
              " 'include': 0.15384615384615385,\n",
              " 'increase': 0.38461538461538464,\n",
              " 'individuals': 0.07692307692307693,\n",
              " 'infection': 0.15384615384615385,\n",
              " 'institutes': 0.3076923076923077,\n",
              " 'institutions': 0.07692307692307693,\n",
              " 'integration': 0.07692307692307693,\n",
              " 'involved': 0.15384615384615385,\n",
              " 'involving': 0.15384615384615385,\n",
              " 'islamic': 0.07692307692307693,\n",
              " 'isolate': 0.07692307692307693,\n",
              " 'isolated': 0.07692307692307693,\n",
              " 'jan': 0.3076923076923077,\n",
              " 'kuala': 0.07692307692307693,\n",
              " 'laboratory': 0.07692307692307693,\n",
              " 'late': 0.07692307692307693,\n",
              " 'linked': 0.07692307692307693,\n",
              " 'lumpur': 0.07692307692307693,\n",
              " 'lung': 0.07692307692307693,\n",
              " 'majority': 0.07692307692307693,\n",
              " 'make': 0.07692307692307693,\n",
              " 'making': 0.07692307692307693,\n",
              " 'managements': 0.07692307692307693,\n",
              " 'meeting': 0.07692307692307693,\n",
              " 'mild': 0.15384615384615385,\n",
              " 'ministry': 0.46153846153846156,\n",
              " 'must': 0.07692307692307693,\n",
              " 'nation': 0.07692307692307693,\n",
              " 'national': 0.23076923076923078,\n",
              " 'nd': 0.07692307692307693,\n",
              " 'new': 0.07692307692307693,\n",
              " 'news': 0.07692307692307693,\n",
              " 'noor': 0.6153846153846154,\n",
              " 'nst': 0.07692307692307693,\n",
              " 'number': 0.07692307692307693,\n",
              " 'offices': 0.07692307692307693,\n",
              " 'one': 0.07692307692307693,\n",
              " 'operating': 0.07692307692307693,\n",
              " 'per': 0.46153846153846156,\n",
              " 'periodically': 0.07692307692307693,\n",
              " 'places': 0.07692307692307693,\n",
              " 'poor': 0.07692307692307693,\n",
              " 'positive': 0.23076923076923078,\n",
              " 'prepare': 0.07692307692307693,\n",
              " 'private': 0.07692307692307693,\n",
              " 'procedures': 0.07692307692307693,\n",
              " 'proposals': 0.15384615384615385,\n",
              " 'public': 0.07692307692307693,\n",
              " 'quarantine': 0.07692307692307693,\n",
              " 'quick': 0.07692307692307693,\n",
              " 'rd': 0.07692307692307693,\n",
              " 'reasons': 0.3076923076923077,\n",
              " 'received': 0.07692307692307693,\n",
              " 'receiving': 0.07692307692307693,\n",
              " 'recorded': 0.15384615384615385,\n",
              " 'reduce': 0.07692307692307693,\n",
              " 'registered': 0.07692307692307693,\n",
              " 'remaining': 0.07692307692307693,\n",
              " 'reopened': 0.07692307692307693,\n",
              " 'reopening': 0.07692307692307693,\n",
              " 'report': 0.07692307692307693,\n",
              " 'reported': 0.23076923076923078,\n",
              " 'reps': 0.07692307692307693,\n",
              " 'revealed': 0.15384615384615385,\n",
              " 'rising': 0.07692307692307693,\n",
              " 'risk': 0.07692307692307693,\n",
              " 'rose': 0.07692307692307693,\n",
              " 'rules': 0.07692307692307693,\n",
              " 'said': 0.6923076923076923,\n",
              " 'school': 0.15384615384615385,\n",
              " 'schools': 0.07692307692307693,\n",
              " 'security': 0.07692307692307693,\n",
              " 'sessions': 0.07692307692307693,\n",
              " 'set': 0.07692307692307693,\n",
              " 'several': 0.15384615384615385,\n",
              " 'shots': 0.07692307692307693,\n",
              " 'sop': 0.15384615384615385,\n",
              " 'spaces': 0.15384615384615385,\n",
              " 'special': 0.07692307692307693,\n",
              " 'sri': 0.07692307692307693,\n",
              " 'st': 0.07692307692307693,\n",
              " 'stable': 0.07692307692307693,\n",
              " 'stakeholders': 0.07692307692307693,\n",
              " 'standard': 0.07692307692307693,\n",
              " 'starting': 0.07692307692307693,\n",
              " 'state': 0.07692307692307693,\n",
              " 'statement': 0.07692307692307693,\n",
              " 'still': 0.07692307692307693,\n",
              " 'student': 0.07692307692307693,\n",
              " 'students': 0.15384615384615385,\n",
              " 'suitable': 0.07692307692307693,\n",
              " 'sure': 0.07692307692307693,\n",
              " 'symptomatic': 0.07692307692307693,\n",
              " 'symptoms': 0.15384615384615385,\n",
              " 'systems': 0.07692307692307693,\n",
              " 'tan': 0.07692307692307693,\n",
              " 'teachers': 0.07692307692307693,\n",
              " 'test': 0.07692307692307693,\n",
              " 'th': 0.07692307692307693,\n",
              " 'three': 0.07692307692307693,\n",
              " 'time': 0.07692307692307693,\n",
              " 'today': 0.07692307692307693,\n",
              " 'tracing': 0.07692307692307693,\n",
              " 'treatment': 0.07692307692307693,\n",
              " 'unity': 0.07692307692307693,\n",
              " 'vaccinated': 0.07692307692307693,\n",
              " 'various': 0.07692307692307693,\n",
              " 'ventilation': 0.15384615384615385,\n",
              " 'wardens': 0.07692307692307693,\n",
              " 'week': 0.07692307692307693,\n",
              " 'well': 0.07692307692307693,\n",
              " 'whenever': 0.07692307692307693,\n",
              " 'without': 0.07692307692307693,\n",
              " 'www': 0.07692307692307693}"
            ]
          },
          "metadata": {},
          "execution_count": 13
        }
      ]
    },
    {
      "cell_type": "code",
      "source": [
        "sentence_scores"
      ],
      "metadata": {
        "colab": {
          "base_uri": "https://localhost:8080/"
        },
        "id": "aT1SRkqiVrhT",
        "outputId": "eec7c530-e38e-4077-91ae-0f8200a68f74"
      },
      "execution_count": 14,
      "outputs": [
        {
          "output_type": "execute_result",
          "data": {
            "text/plain": [
              "{'\"a 313 per cent increase was reported during the 3rd ew.': 1.8461538461538463,\n",
              " '\"during the 1st epidemiological week (ew), only three educational clusters were detected.': 1.7692307692307692,\n",
              " '\"the majority of the cases, or 99.7 per cent, were under category 1 (asymptomatic) and 2 (with mild symptoms) without lung infection.': 2.4615384615384617,\n",
              " '\"the remaining 12 cases were under categories 3 and 4. all of them are stable and now receiving treatment at health facilities,\" he said in a statement today.': 2.4615384615384617,\n",
              " 'dr noor hisham said cases were rising following the reopening of school sessions starting jan 9.': 3.8461538461538476,\n",
              " 'dr noor hisham said of these reported cases, 4,092 were fully vaccinated and 112 had received the booster shots.': 3.6153846153846168,\n",
              " 'he revealed that 107 clusters in the education category had been reported between jan 1 and 25, involving 4,633 cases.': 3.3076923076923075,\n",
              " 'health director-general tan sri dr noor hisham abdullah said these were identified by the various district health offices in which education clusters and cases had appeared.': 6.384615384615385,\n",
              " 'however, the number rose after schools reopened during the 2nd ew with 15 clusters were recorded.': 1.5384615384615383,\n",
              " 'https://www.nst.com.my/news/nation/2022/01/766418/noor-hisham-several-reasons-increase-education-clusters\\nkuala lumpur: the reasons for the exponential increase of covid-19 education clusters include failure to adhere to the standard operating procedures (sop) and disregarding quarantine rules.': 3.6153846153846168,\n",
              " 'noor hisham: several reasons for increase in education clusters.': 3.769230769230769,\n",
              " 'on the 4th ew until jan 25, we have recorded 26 new education clusters,\" he said.': 3.230769230769231,\n",
              " 'other proposals include conducting a quick risk assessment so that students who test positive with covid-19 positive can be isolated, followed by immediate close contact tracing.': 1.9230769230769231}"
            ]
          },
          "metadata": {},
          "execution_count": 14
        }
      ]
    },
    {
      "cell_type": "code",
      "source": [
        "#Summarization"
      ],
      "metadata": {
        "id": "j18g2krdxyMq"
      },
      "execution_count": 15,
      "outputs": []
    },
    {
      "cell_type": "code",
      "source": [
        "# get top 5 sentences\n",
        "import heapq\n",
        "summary = heapq.nlargest(5, sentence_scores, key=sentence_scores.get)\n",
        "summary=\" \".join(summary)\n",
        "print(summary)"
      ],
      "metadata": {
        "colab": {
          "base_uri": "https://localhost:8080/"
        },
        "id": "49oYty2xVt1y",
        "outputId": "c1364c41-e89c-4e32-e5f5-7703d71a8ac3"
      },
      "execution_count": 22,
      "outputs": [
        {
          "output_type": "stream",
          "name": "stdout",
          "text": [
            "health director-general tan sri dr noor hisham abdullah said these were identified by the various district health offices in which education clusters and cases had appeared. dr noor hisham said cases were rising following the reopening of school sessions starting jan 9. noor hisham: several reasons for increase in education clusters. https://www.nst.com.my/news/nation/2022/01/766418/noor-hisham-several-reasons-increase-education-clusters\n",
            "kuala lumpur: the reasons for the exponential increase of covid-19 education clusters include failure to adhere to the standard operating procedures (sop) and disregarding quarantine rules. dr noor hisham said of these reported cases, 4,092 were fully vaccinated and 112 had received the booster shots.\n"
          ]
        }
      ]
    },
    {
      "cell_type": "code",
      "source": [
        "outFileName=\"summary.txt\"\n",
        "outFile=open(outFileName, \"w\")\n",
        "outFile.write(summary)\n",
        "outFile.close()"
      ],
      "metadata": {
        "id": "Gh4l0td4r5DU"
      },
      "execution_count": 23,
      "outputs": []
    }
  ]
}